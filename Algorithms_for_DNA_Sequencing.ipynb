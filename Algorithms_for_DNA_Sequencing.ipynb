{
  "nbformat": 4,
  "nbformat_minor": 0,
  "metadata": {
    "colab": {
      "name": "Algorithms for DNA Sequencing.ipynb",
      "provenance": [],
      "authorship_tag": "ABX9TyPd/TEy4etOs1HksxtPvBJz",
      "include_colab_link": true
    },
    "kernelspec": {
      "name": "python3",
      "display_name": "Python 3"
    },
    "language_info": {
      "name": "python"
    }
  },
  "cells": [
    {
      "cell_type": "markdown",
      "metadata": {
        "id": "view-in-github",
        "colab_type": "text"
      },
      "source": [
        "<a href=\"https://colab.research.google.com/github/Mohamed-Rafat666/Fun-With-Python/blob/main/Algorithms_for_DNA_Sequencing.ipynb\" target=\"_parent\"><img src=\"https://colab.research.google.com/assets/colab-badge.svg\" alt=\"Open In Colab\"/></a>"
      ]
    },
    {
      "cell_type": "code",
      "source": [
        "# generate a random sequence\n",
        "def seq(n):\n",
        "    import random\n",
        "    seq = ''.join([random.choice('ACGT') for i in range (n)])\n",
        "    return seq"
      ],
      "metadata": {
        "id": "7tFm6d3Ga8vZ"
      },
      "execution_count": null,
      "outputs": []
    },
    {
      "cell_type": "code",
      "source": [
        "# Generate reads from random positions in the given genome\n",
        "def generateReads(genome, numReads, readLen):\n",
        "    import random\n",
        "    reads = []\n",
        "    for i in range(numReads):\n",
        "        start = random.randint(0, len(genome)-readLen) - 1\n",
        "        reads.append(genome[start : start+readLen])\n",
        "    return reads  "
      ],
      "metadata": {
        "id": "k0eqMfM_6b1i"
      },
      "execution_count": null,
      "outputs": []
    },
    {
      "cell_type": "code",
      "source": [
        "# generate a reversecomplement sequence\n",
        "def reversecomplement (seq):\n",
        "    complement = {'A':'T','C':'G','G':'C','T':'A'}\n",
        "    r = ''.join([complement[i] for i in s[::-1]])\n",
        "    return r"
      ],
      "metadata": {
        "id": "zE5jazxYf7EO"
      },
      "execution_count": null,
      "outputs": []
    },
    {
      "cell_type": "code",
      "source": [
        "# Count the number of occurences of each base\n",
        "def count(genome):\n",
        "    import collections\n",
        "    count = collections.Counter()\n",
        "    for base in genome:\n",
        "        count.update(base)\n",
        "    return count"
      ],
      "metadata": {
        "id": "LcL_-1f-lCqc"
      },
      "execution_count": null,
      "outputs": []
    },
    {
      "cell_type": "code",
      "source": [
        "# read Genome file with header\n",
        "def readGenome(filename):\n",
        "    genome = ''\n",
        "    with open(filename, 'r') as f:\n",
        "        for line in f:\n",
        "            # ignore header line with genome information\n",
        "            if not line[0] == '>':\n",
        "                genome += line.rstrip()\n",
        "    return genome"
      ],
      "metadata": {
        "id": "yurEmFRkhjGP"
      },
      "execution_count": null,
      "outputs": []
    },
    {
      "cell_type": "code",
      "source": [
        "# read Fastq file\n",
        "def readFastq(filename):\n",
        "    sequences = []\n",
        "    qualities = []\n",
        "    with open(filename) as fh:\n",
        "        while True:\n",
        "            fh.readline()  # skip name line\n",
        "            seq = fh.readline().rstrip()  # read base sequence\n",
        "            fh.readline()  # skip placeholder line\n",
        "            qual = fh.readline().rstrip() # base quality line\n",
        "            if len(seq) == 0:\n",
        "                break\n",
        "            sequences.append(seq)\n",
        "            qualities.append(qual)\n",
        "    return sequences, qualities\n",
        "# ==========================================================\n",
        "def createHist(qualities):\n",
        "    hist = [0] * 50\n",
        "    for qual in qualities:\n",
        "        for phred in qual:\n",
        "            q = ord(phred) - 33\n",
        "            hist[q] += 1\n",
        "    return hist\n",
        "# ===========================================================\n",
        "# Find the GC ratio at each position in the read\n",
        "def findGCByPos(reads):\n",
        "    # Keep track of the number of G/C bases and the total number of bases at each position\n",
        "    gc = [0] * 100\n",
        "    totals = [0] * 100\n",
        "    for read in reads:\n",
        "        for i in range(len(read)):\n",
        "            if read[i] == 'C' or read[i] == 'G':\n",
        "                gc[i] += 1\n",
        "            totals[i] += 1\n",
        "    # Divide G/C counts by total counts to get the average at each position\n",
        "    for i in range(len(gc)):\n",
        "        if totals[i] > 0:\n",
        "            gc[i] /= float(totals[i])\n",
        "    return gc"
      ],
      "metadata": {
        "id": "a7fg0bDjMYeA"
      },
      "execution_count": null,
      "outputs": []
    },
    {
      "cell_type": "code",
      "source": [
        "# naive algorithm\n",
        "def naive(p, t):\n",
        "    occurrences = []\n",
        "    for i in range(len(t) - len(p) + 1):\n",
        "        match = True\n",
        "        for j in range(len(p)):\n",
        "            if t[i+j] != p[j]:\n",
        "                match = False\n",
        "                break\n",
        "        if match:\n",
        "            occurrences.append(i)\n",
        "    return occurrences"
      ],
      "metadata": {
        "id": "cSsTJPE7qAy6"
      },
      "execution_count": null,
      "outputs": []
    },
    {
      "cell_type": "code",
      "source": [
        "# Count how many reads match the genome exactly\n",
        "def match(reads,genome):\n",
        "    numMatched = 0\n",
        "    for r in reads:\n",
        "        matches = naive(r, genome)\n",
        "        if len(matches) > 0:\n",
        "            numMatched += 1\n",
        "    print('%d / %d reads matched the genome exactly!' % (numMatched, len(reads)))"
      ],
      "metadata": {
        "id": "Arce5aGyPioL"
      },
      "execution_count": null,
      "outputs": []
    }
  ]
}