{
  "nbformat": 4,
  "nbformat_minor": 0,
  "metadata": {
    "colab": {
      "name": "download csv file from jupyter notebook.ipynb",
      "provenance": [],
      "authorship_tag": "ABX9TyM6XQI4/ZtqwamxgzW2d/Vo",
      "include_colab_link": true
    },
    "kernelspec": {
      "name": "python3",
      "display_name": "Python 3"
    },
    "language_info": {
      "name": "python"
    }
  },
  "cells": [
    {
      "cell_type": "markdown",
      "metadata": {
        "id": "view-in-github",
        "colab_type": "text"
      },
      "source": [
        "<a href=\"https://colab.research.google.com/github/Mohamed-Rafat666/Fun-With-Python/blob/main/download_csv_file_from_jupyter_notebook.ipynb\" target=\"_parent\"><img src=\"https://colab.research.google.com/assets/colab-badge.svg\" alt=\"Open In Colab\"/></a>"
      ]
    },
    {
      "cell_type": "code",
      "execution_count": null,
      "metadata": {
        "id": "JuGLT9TcqaZg"
      },
      "outputs": [],
      "source": [
        "# if you have dataframe and want to download it as csv :\n",
        "\n",
        "df = dataframe\n",
        "import base64\n",
        "import pandas as pd\n",
        "from IPython.display import HTML\n",
        "\n",
        "def create_download_link( df, title = \"Download CSV file\", filename = \"data.csv\"):\n",
        "    csv = df.to_csv()\n",
        "    b64 = base64.b64encode(csv.encode())\n",
        "    payload = b64.decode()\n",
        "    html = '<a download=\"{filename}\" href=\"data:text/csv;base64,{payload}\" target=\"_blank\">{title}</a>'\n",
        "    html = html.format(payload=payload,title=title,filename=filename)\n",
        "    return HTML(html)\n",
        "create_download_link(df)"
      ]
    }
  ]
}