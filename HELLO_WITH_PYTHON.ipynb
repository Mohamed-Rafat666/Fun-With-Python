{
  "nbformat": 4,
  "nbformat_minor": 0,
  "metadata": {
    "colab": {
      "name": "HELLO WITH PYTHON.ipynb",
      "provenance": [],
      "collapsed_sections": []
    },
    "kernelspec": {
      "name": "python3",
      "display_name": "Python 3"
    },
    "language_info": {
      "name": "python"
    }
  },
  "cells": [
    {
      "cell_type": "code",
      "execution_count": 1,
      "metadata": {
        "id": "LTg1RazAz7I7"
      },
      "outputs": [],
      "source": [
        "def make_hello(N=1000, rseed=42):\n",
        "    # Make a plot with \"HELLO\" text; save as PNG\n",
        "    fig, ax = plt.subplots(figsize=(4, 1))\n",
        "    fig.subplots_adjust(left=0, right=1, bottom=0, top=1)\n",
        "    ax.axis('off')\n",
        "    ax.text(0.5, 0.4, 'HELLO', va='center', ha='center', weight='bold', size=85)\n",
        "    fig.savefig('hello.png')\n",
        "    plt.close(fig)\n",
        "    # Open this PNG and draw random points from it\n",
        "    from matplotlib.image import imread\n",
        "\n",
        "    data = imread('hello.png')[::-1, :, 0].T\n",
        "    rng = np.random.RandomState(rseed)\n",
        "    X = rng.rand(4 * N, 2)\n",
        "    i, j = (X * data.shape).astype(int).T\n",
        "    mask = (data[i, j] < 1)\n",
        "    X = X[mask]\n",
        "    X[:, 0] *= (data.shape[0] / data.shape[1])\n",
        "    X = X[:N]\n",
        "    return X[np.argsort(X[:, 0])]"
      ]
    },
    {
      "cell_type": "code",
      "source": [
        "import matplotlib.pyplot as plt\n",
        "import numpy as np\n",
        "X = make_hello(100000)\n",
        "colorize = dict(c=X[:, 0], cmap=plt.cm.get_cmap('rainbow', 5))\n",
        "plt.scatter(X[:, 0], X[:, 1], **colorize)\n",
        "plt.axis('equal');"
      ],
      "metadata": {
        "colab": {
          "base_uri": "https://localhost:8080/",
          "height": 265
        },
        "id": "bmqqbKNdz8RW",
        "outputId": "e11690da-c927-4251-f347-e64f6d0a5779"
      },
      "execution_count": 2,
      "outputs": [
        {
          "output_type": "display_data",
          "data": {
            "image/png": "[encoded data removed]",
            "text/plain": [
              "<Figure size 432x288 with 1 Axes>"
            ]
          },
          "metadata": {
            "needs_background": "light"
          }
        }
      ]
    }
  ]
}